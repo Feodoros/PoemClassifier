{
 "cells": [
  {
   "cell_type": "markdown",
   "metadata": {},
   "source": [
    "# Text age classifier"
   ]
  },
  {
   "cell_type": "markdown",
   "metadata": {},
   "source": [
    "Our goal is to classify given text to categories. First category means that given text is OK to be given to child to read, second category means that text suits adult but not children."
   ]
  },
  {
   "cell_type": "markdown",
   "metadata": {},
   "source": [
    "# We have several main tasks:\n",
    "- Prepare training, test data\n",
    " * Find data \n",
    " * Prepare data\n",
    "- Build model\n",
    " * Train model"
   ]
  },
  {
   "cell_type": "code",
   "execution_count": 1,
   "metadata": {},
   "outputs": [],
   "source": [
    "import io\n",
    "import re\n",
    "import random\n",
    "import numpy as np\n",
    "import matplotlib.pyplot as plt\n",
    "import tensorflow as tf\n",
    "from tensorflow import keras"
   ]
  },
  {
   "cell_type": "markdown",
   "metadata": {},
   "source": [
    "## Preparing data"
   ]
  },
  {
   "cell_type": "markdown",
   "metadata": {},
   "source": [
    "What to do:\n",
    "- Create dictionary with all words\n",
    "- Make list of lists containing data\n",
    "- Norm data so model can train on it\n",
    "- Create labels (1 - adult, 0 - child)\n",
    "- Split data to train, validation and test data"
   ]
  },
  {
   "cell_type": "markdown",
   "metadata": {},
   "source": [
    "### Creating dictionary "
   ]
  },
  {
   "cell_type": "markdown",
   "metadata": {},
   "source": [
    "First of all, we should create dictionary with top 10 000 used words in russian language matched to numbers from 0 to 9999.\n",
    "We need this to represent poems as arrays of numbers, where each number represents a word from array."
   ]
  },
  {
   "cell_type": "markdown",
   "metadata": {},
   "source": [
    "I found top 10 000 words from website, now we should parse them into list."
   ]
  },
  {
   "cell_type": "code",
   "execution_count": 2,
   "metadata": {},
   "outputs": [],
   "source": [
    "with open(r'files/parsed_top_words.txt', 'r') as infile, \\\n",
    "     open(r'files/filtered_top_words.txt', 'w') as outfile:\n",
    "    data = infile.read()\n",
    "    data = data.replace(\"<tr><td class=text>\", \"\")\n",
    "    data = data.replace(\"</td> </tr>\", \"\")\n",
    "    outfile.write(data)"
   ]
  },
  {
   "cell_type": "code",
   "execution_count": 3,
   "metadata": {},
   "outputs": [],
   "source": [
    "with open('files/filtered_top_words.txt', 'r') as f:\n",
    "    wordList = [line.strip() for line in f]"
   ]
  },
  {
   "cell_type": "code",
   "execution_count": 4,
   "metadata": {},
   "outputs": [
    {
     "data": {
      "text/plain": [
       "\"['не', 'на', 'что', 'как', 'он', 'по', 'из', 'это', 'от', 'за']\""
      ]
     },
     "execution_count": 4,
     "metadata": {},
     "output_type": "execute_result"
    }
   ],
   "source": [
    "str(wordList[:10])"
   ]
  },
  {
   "cell_type": "code",
   "execution_count": 5,
   "metadata": {},
   "outputs": [
    {
     "data": {
      "text/plain": [
       "10000"
      ]
     },
     "execution_count": 5,
     "metadata": {},
     "output_type": "execute_result"
    }
   ],
   "source": [
    "len(wordList)"
   ]
  },
  {
   "cell_type": "markdown",
   "metadata": {},
   "source": [
    "Creating a dictinary that contains words and numbers."
   ]
  },
  {
   "cell_type": "code",
   "execution_count": 6,
   "metadata": {},
   "outputs": [],
   "source": [
    "values = list(range(1, 10001))\n",
    "dictionary = dict(zip(wordList, values))"
   ]
  },
  {
   "cell_type": "code",
   "execution_count": 7,
   "metadata": {},
   "outputs": [
    {
     "data": {
      "text/plain": [
       "\"[('не', 1), ('на', 2), ('что', 3), ('как', 4), ('он', 5), ('по', 6), ('из', 7), ('это', 8), ('от', 9), ('за', 10)]\""
      ]
     },
     "execution_count": 7,
     "metadata": {},
     "output_type": "execute_result"
    }
   ],
   "source": [
    "str(list(dictionary.items())[:10])"
   ]
  },
  {
   "cell_type": "markdown",
   "metadata": {},
   "source": [
    "### Making a list of lists containing data"
   ]
  },
  {
   "cell_type": "markdown",
   "metadata": {},
   "source": [
    "Downloading our data."
   ]
  },
  {
   "cell_type": "code",
   "execution_count": 8,
   "metadata": {},
   "outputs": [],
   "source": [
    "# Downloading data\n",
    "# Stories should be split with @-sign"
   ]
  },
  {
   "cell_type": "markdown",
   "metadata": {},
   "source": [
    "Now we open a txt-file with stories which we downloaded earlier. Making a list of strings."
   ]
  },
  {
   "cell_type": "code",
   "execution_count": 9,
   "metadata": {},
   "outputs": [],
   "source": [
    "with io.open('files/tales(1).txt', encoding='utf-8') as file:\n",
    "    data = file.read().replace('\\n', '').lower()\n",
    "\n",
    "adultTales = data.split('@')"
   ]
  },
  {
   "cell_type": "code",
   "execution_count": 10,
   "metadata": {},
   "outputs": [],
   "source": [
    "with io.open('files/tales(2).txt', encoding='utf-8') as file:\n",
    "    data = file.read().replace('\\n', '').lower()\n",
    "\n",
    "funnyTales = data.split('@')"
   ]
  },
  {
   "cell_type": "code",
   "execution_count": 11,
   "metadata": {},
   "outputs": [
    {
     "data": {
      "text/plain": [
       "(16, 16)"
      ]
     },
     "execution_count": 11,
     "metadata": {},
     "output_type": "execute_result"
    }
   ],
   "source": [
    "len(adultTales), len(funnyTales)"
   ]
  },
  {
   "cell_type": "markdown",
   "metadata": {},
   "source": [
    "Merging adult tales and tales for children in one list."
   ]
  },
  {
   "cell_type": "code",
   "execution_count": 12,
   "metadata": {},
   "outputs": [],
   "source": [
    "# Download and add second list.\n",
    "data = adultTales + funnyTales"
   ]
  },
  {
   "cell_type": "code",
   "execution_count": 13,
   "metadata": {},
   "outputs": [
    {
     "data": {
      "text/plain": [
       "'история одной жизни ( конец ).переехали мы к деду и бабке в двухкомнатную квартиру, в одной комнате жили они, а в другой —— я с мужем. бабушка лежала парализованная, дед ходил, но плохо. выживать он нас стал сразу, гадил везде, своими фекалиями мазал стены... а я приходила с работы и приходилось сквозь слезы все это мыть. дома были постоянные скандалы из-за этого! мне снилось уже, как я мою стены, убирать за дедом у меня уже не было сил. вот и подошла к концу история одной жизни... написана она по просьбе моей подруги. она хотела, чтоб о ее жизни узнали и не повторяли ошибок, какие делали все действующие лица этой истории. до написания этой истории я и сама не знала таких подробностей ее жизни. теперь во многих ее поступках я ее понимаю...'"
      ]
     },
     "execution_count": 13,
     "metadata": {},
     "output_type": "execute_result"
    }
   ],
   "source": [
    "data[1]"
   ]
  },
  {
   "cell_type": "markdown",
   "metadata": {},
   "source": [
    "So, we have a list of strings. Now we should transform each string to list of words."
   ]
  },
  {
   "cell_type": "code",
   "execution_count": 14,
   "metadata": {},
   "outputs": [],
   "source": [
    "data = list(map(lambda x: re.findall(r'\\w+', x), data))"
   ]
  },
  {
   "cell_type": "code",
   "execution_count": 15,
   "metadata": {
    "scrolled": true
   },
   "outputs": [
    {
     "data": {
      "text/plain": [
       "\"['история', 'одной', 'жизни', 'конец', 'переехали', 'мы', 'к', 'деду', 'и', 'бабке', 'в', 'двухкомнатную', 'квартиру', 'в', 'одной', 'комнате', 'жили', 'они', 'а', 'в', 'другой', 'я', 'с', 'мужем', 'бабушка', 'лежала', 'парализованная', 'дед', 'ходил', 'но', 'плохо', 'выживать', 'он', 'нас', 'стал', 'сразу', 'гадил', 'везде', 'своими', 'фекалиями', 'мазал', 'стены', 'а', 'я', 'приходила', 'с', 'работы', 'и', 'приходилось', 'сквозь', 'слезы', 'все', 'это', 'мыть', 'дома', 'были', 'постоянные', 'скандалы', 'из', 'за', 'этого', 'мне', 'снилось', 'уже', 'как', 'я', 'мою', 'стены', 'убирать', 'за', 'дедом', 'у', 'меня', 'уже', 'не', 'было', 'сил', 'вот', 'и', 'подошла', 'к', 'концу', 'история', 'одной', 'жизни', 'написана', 'она', 'по', 'просьбе', 'моей', 'подруги', 'она', 'хотела', 'чтоб', 'о', 'ее', 'жизни', 'узнали', 'и', 'не', 'повторяли', 'ошибок', 'какие', 'делали', 'все', 'действующие', 'лица', 'этой', 'истории', 'до', 'написания', 'этой', 'истории', 'я', 'и', 'сама', 'не', 'знала', 'таких', 'подробностей', 'ее', 'жизни', 'теперь', 'во', 'многих', 'ее', 'поступках', 'я', 'ее', 'понимаю']\""
      ]
     },
     "execution_count": 15,
     "metadata": {},
     "output_type": "execute_result"
    }
   ],
   "source": [
    "str(data[1])"
   ]
  },
  {
   "cell_type": "markdown",
   "metadata": {},
   "source": [
    "Now we transform each word to number from dictionary."
   ]
  },
  {
   "cell_type": "code",
   "execution_count": 16,
   "metadata": {},
   "outputs": [],
   "source": [
    "data = list(map(lambda x: list(map(lambda y: dictionary.get(y, 0), x)), data))"
   ]
  },
  {
   "cell_type": "code",
   "execution_count": 17,
   "metadata": {},
   "outputs": [
    {
     "data": {
      "text/plain": [
       "'[322, 0, 0, 303, 0, 20, 0, 0, 0, 0, 0, 0, 0, 0, 0, 0, 0, 23, 0, 0, 83, 0, 0, 0, 669, 0, 0, 738, 0, 12, 254, 0, 5, 0, 0, 99, 0, 434, 0, 0, 0, 0, 0, 0, 0, 0, 0, 0, 0, 253, 0, 0, 8, 3266, 0, 0, 0, 0, 7, 10, 0, 0, 0, 22, 4, 0, 0, 0, 4081, 10, 0, 0, 0, 22, 1, 0, 0, 42, 0, 0, 0, 0, 322, 0, 0, 0, 17, 6, 0, 0, 0, 17, 0, 115, 0, 0, 0, 0, 0, 1, 0, 0, 0, 0, 0, 0, 0, 0, 0, 21, 0, 0, 0, 0, 0, 0, 1, 0, 0, 0, 0, 0, 49, 0, 0, 0, 0, 0, 0, 0]'"
      ]
     },
     "execution_count": 17,
     "metadata": {},
     "output_type": "execute_result"
    }
   ],
   "source": [
    "str(data[1])"
   ]
  },
  {
   "cell_type": "markdown",
   "metadata": {},
   "source": [
    "And at the end we transform data to numpy array of lists"
   ]
  },
  {
   "cell_type": "code",
   "execution_count": 18,
   "metadata": {},
   "outputs": [],
   "source": [
    "data = np.array(data, dtype=object)"
   ]
  },
  {
   "cell_type": "markdown",
   "metadata": {},
   "source": [
    "### Norming data"
   ]
  },
  {
   "cell_type": "markdown",
   "metadata": {},
   "source": [
    "Now we should make training data arrays same on size."
   ]
  },
  {
   "cell_type": "code",
   "execution_count": 19,
   "metadata": {},
   "outputs": [
    {
     "data": {
      "text/plain": [
       "(364, 130)"
      ]
     },
     "execution_count": 19,
     "metadata": {},
     "output_type": "execute_result"
    }
   ],
   "source": [
    "len(data[0]), len(data[1])"
   ]
  },
  {
   "cell_type": "code",
   "execution_count": 20,
   "metadata": {},
   "outputs": [],
   "source": [
    "data = keras.preprocessing.sequence.pad_sequences(data,\n",
    "                                                  value=0,\n",
    "                                                  padding='post',\n",
    "                                                  maxlen=256)"
   ]
  },
  {
   "cell_type": "code",
   "execution_count": 21,
   "metadata": {},
   "outputs": [
    {
     "data": {
      "text/plain": [
       "(256, 256)"
      ]
     },
     "execution_count": 21,
     "metadata": {},
     "output_type": "execute_result"
    }
   ],
   "source": [
    "len(data[0]), len(data[1])"
   ]
  },
  {
   "cell_type": "code",
   "execution_count": 22,
   "metadata": {},
   "outputs": [
    {
     "data": {
      "text/plain": [
       "array([ 322,    0,    0,  303,    0,   20,    0,    0,    0,    0,    0,\n",
       "          0,    0,    0,    0,    0,    0,   23,    0,    0,   83,    0,\n",
       "          0,    0,  669,    0,    0,  738,    0,   12,  254,    0,    5,\n",
       "          0,    0,   99,    0,  434,    0,    0,    0,    0,    0,    0,\n",
       "          0,    0,    0,    0,    0,  253,    0,    0,    8, 3266,    0,\n",
       "          0,    0,    0,    7,   10,    0,    0,    0,   22,    4,    0,\n",
       "          0,    0, 4081,   10,    0,    0,    0,   22,    1,    0,    0,\n",
       "         42,    0,    0,    0,    0,  322,    0,    0,    0,   17,    6,\n",
       "          0,    0,    0,   17,    0,  115,    0,    0,    0,    0,    0,\n",
       "          1,    0,    0,    0,    0,    0,    0,    0,    0,    0,   21,\n",
       "          0,    0,    0,    0,    0,    0,    1,    0,    0,    0,    0,\n",
       "          0,   49,    0,    0,    0,    0,    0,    0,    0,    0,    0,\n",
       "          0,    0,    0,    0,    0,    0,    0,    0,    0,    0,    0,\n",
       "          0,    0,    0,    0,    0,    0,    0,    0,    0,    0,    0,\n",
       "          0,    0,    0,    0,    0,    0,    0,    0,    0,    0,    0,\n",
       "          0,    0,    0,    0,    0,    0,    0,    0,    0,    0,    0,\n",
       "          0,    0,    0,    0,    0,    0,    0,    0,    0,    0,    0,\n",
       "          0,    0,    0,    0,    0,    0,    0,    0,    0,    0,    0,\n",
       "          0,    0,    0,    0,    0,    0,    0,    0,    0,    0,    0,\n",
       "          0,    0,    0,    0,    0,    0,    0,    0,    0,    0,    0,\n",
       "          0,    0,    0,    0,    0,    0,    0,    0,    0,    0,    0,\n",
       "          0,    0,    0,    0,    0,    0,    0,    0,    0,    0,    0,\n",
       "          0,    0,    0,    0,    0,    0,    0,    0,    0,    0,    0,\n",
       "          0,    0,    0])"
      ]
     },
     "execution_count": 22,
     "metadata": {},
     "output_type": "execute_result"
    }
   ],
   "source": [
    "data[1]"
   ]
  },
  {
   "cell_type": "code",
   "execution_count": 23,
   "metadata": {
    "scrolled": true
   },
   "outputs": [
    {
     "data": {
      "text/plain": [
       "array([[   0,    0,    0, ...,   73,    2,  966],\n",
       "       [ 322,    0,    0, ...,    0,    0,    0],\n",
       "       [ 322,    0,    0, ...,    0,    0,    0],\n",
       "       ...,\n",
       "       [ 108,    0,    0, ...,    0,    0,    0],\n",
       "       [ 791, 3222,    0, ...,    0,    0,    0],\n",
       "       [   0,    0,    0, ...,    0,    0,    0]])"
      ]
     },
     "execution_count": 23,
     "metadata": {},
     "output_type": "execute_result"
    }
   ],
   "source": [
    "data"
   ]
  },
  {
   "cell_type": "markdown",
   "metadata": {},
   "source": [
    "###  Creating labels"
   ]
  },
  {
   "cell_type": "markdown",
   "metadata": {},
   "source": [
    "Assuming that we have same number of child tales and adult tales, we will create an array, that filled for half with zeros, and for half with ones."
   ]
  },
  {
   "cell_type": "code",
   "execution_count": 24,
   "metadata": {},
   "outputs": [],
   "source": [
    "zeros = [0 for i in range(int (len(data)/2))]\n",
    "ones = [1 for i in range(int (len(data)/2))]\n",
    "\n",
    "labels = zeros + ones\n",
    "labels = np.array(labels)"
   ]
  },
  {
   "cell_type": "code",
   "execution_count": 25,
   "metadata": {},
   "outputs": [
    {
     "data": {
      "text/plain": [
       "array([0, 0, 0, 0, 0, 0, 0, 0, 0, 0, 0, 0, 0, 0, 0, 0, 1, 1, 1, 1, 1, 1,\n",
       "       1, 1, 1, 1, 1, 1, 1, 1, 1, 1])"
      ]
     },
     "execution_count": 25,
     "metadata": {},
     "output_type": "execute_result"
    }
   ],
   "source": [
    "labels"
   ]
  },
  {
   "cell_type": "code",
   "execution_count": 26,
   "metadata": {},
   "outputs": [
    {
     "data": {
      "text/plain": [
       "(32, 32)"
      ]
     },
     "execution_count": 26,
     "metadata": {},
     "output_type": "execute_result"
    }
   ],
   "source": [
    "len(data), len(labels)"
   ]
  },
  {
   "cell_type": "markdown",
   "metadata": {},
   "source": [
    "### Splitting data into train, validation and test"
   ]
  },
  {
   "cell_type": "markdown",
   "metadata": {},
   "source": [
    "Firstly we should shuffle our tales (now they are located in way where first half is tales for children and second half is tales for adults)."
   ]
  },
  {
   "cell_type": "markdown",
   "metadata": {},
   "source": [
    "We should notice that it is important to shuffle list of data and list of labels synchronously to keep data and labels matched."
   ]
  },
  {
   "cell_type": "code",
   "execution_count": 27,
   "metadata": {},
   "outputs": [],
   "source": [
    "indices = np.arange(data.shape[0])\n",
    "np.random.shuffle(indices)\n",
    "\n",
    "data = data[indices]\n",
    "labels = labels[indices]"
   ]
  },
  {
   "cell_type": "code",
   "execution_count": 28,
   "metadata": {},
   "outputs": [
    {
     "data": {
      "text/plain": [
       "array([0, 1, 0, 0, 1, 0, 0, 1, 1, 1, 0, 1, 0, 1, 1, 0, 0, 0, 1, 1, 1, 1,\n",
       "       0, 1, 0, 1, 0, 1, 0, 0, 0, 1])"
      ]
     },
     "execution_count": 28,
     "metadata": {},
     "output_type": "execute_result"
    }
   ],
   "source": [
    "labels"
   ]
  },
  {
   "cell_type": "markdown",
   "metadata": {},
   "source": [
    "Now we will choose half of our data for training, 1/4 for validation, 1/4 for testing."
   ]
  },
  {
   "cell_type": "code",
   "execution_count": 29,
   "metadata": {},
   "outputs": [],
   "source": [
    "train_data = data[:int((len(data))/2)]\n",
    "train_labels = labels[:int((len(data))/2)]\n",
    "\n",
    "validation_data = data[int((len(data))/2): 3*int((len(data))/4)]\n",
    "validation_labels = labels[int((len(data))/2): 3*int((len(data))/4)]\n",
    "\n",
    "test_data = data[3*int((len(data))/4):]\n",
    "test_labels = labels[3*int((len(data))/4):]"
   ]
  },
  {
   "cell_type": "code",
   "execution_count": 30,
   "metadata": {},
   "outputs": [
    {
     "data": {
      "text/plain": [
       "(16, 16, 8, 8, 8, 8)"
      ]
     },
     "execution_count": 30,
     "metadata": {},
     "output_type": "execute_result"
    }
   ],
   "source": [
    "len(train_data), len(train_labels), len(validation_data), len(validation_labels), len(test_data), len(test_labels)"
   ]
  },
  {
   "cell_type": "code",
   "execution_count": 31,
   "metadata": {},
   "outputs": [
    {
     "data": {
      "text/plain": [
       "array([[  0,   0,   0, ...,  73,   2, 966],\n",
       "       [108,   0,   0, ...,   0,   0,   0],\n",
       "       [322,   0,   0, ...,   0,   0,   0],\n",
       "       ...,\n",
       "       [322,   0,   0, ...,   0,   0,   0],\n",
       "       [322,   0,   0, ...,   0,   0,   0],\n",
       "       [322,   0,   0, ...,   0,   0,   0]])"
      ]
     },
     "execution_count": 31,
     "metadata": {},
     "output_type": "execute_result"
    }
   ],
   "source": [
    "train_data"
   ]
  },
  {
   "cell_type": "markdown",
   "metadata": {},
   "source": [
    "## Bulding model"
   ]
  },
  {
   "cell_type": "markdown",
   "metadata": {},
   "source": [
    "First layer gets a vector of vords and transforms it into 10000 vector where 1 sign that this word exists in vector."
   ]
  },
  {
   "cell_type": "code",
   "execution_count": 32,
   "metadata": {},
   "outputs": [
    {
     "name": "stdout",
     "output_type": "stream",
     "text": [
      "WARNING:tensorflow:From D:\\Programms\\Anaconda3\\envs\\tf_gpu\\lib\\site-packages\\tensorflow\\python\\ops\\resource_variable_ops.py:435: colocate_with (from tensorflow.python.framework.ops) is deprecated and will be removed in a future version.\n",
      "Instructions for updating:\n",
      "Colocations handled automatically by placer.\n",
      "_________________________________________________________________\n",
      "Layer (type)                 Output Shape              Param #   \n",
      "=================================================================\n",
      "embedding (Embedding)        (None, None, 16)          160000    \n",
      "_________________________________________________________________\n",
      "global_average_pooling1d (Gl (None, 16)                0         \n",
      "_________________________________________________________________\n",
      "dense (Dense)                (None, 16)                272       \n",
      "_________________________________________________________________\n",
      "dense_1 (Dense)              (None, 1)                 17        \n",
      "=================================================================\n",
      "Total params: 160,289\n",
      "Trainable params: 160,289\n",
      "Non-trainable params: 0\n",
      "_________________________________________________________________\n"
     ]
    }
   ],
   "source": [
    "model = keras.Sequential()\n",
    "model.add(keras.layers.Embedding(len(dictionary), 16, input_shape=(None,)))\n",
    "model.add(keras.layers.GlobalAveragePooling1D())\n",
    "model.add(keras.layers.Dense(16, activation=tf.nn.relu))\n",
    "model.add(keras.layers.Dense(1, activation=tf.nn.sigmoid))\n",
    "\n",
    "model.summary()"
   ]
  },
  {
   "cell_type": "markdown",
   "metadata": {},
   "source": [
    "Compiling our model."
   ]
  },
  {
   "cell_type": "code",
   "execution_count": 33,
   "metadata": {},
   "outputs": [],
   "source": [
    "model.compile(optimizer=tf.train.AdamOptimizer(),\n",
    "              loss='binary_crossentropy',\n",
    "              metrics=['accuracy'])"
   ]
  },
  {
   "cell_type": "markdown",
   "metadata": {},
   "source": [
    "### Training model"
   ]
  },
  {
   "cell_type": "code",
   "execution_count": 34,
   "metadata": {},
   "outputs": [
    {
     "name": "stdout",
     "output_type": "stream",
     "text": [
      "Train on 16 samples, validate on 8 samples\n",
      "WARNING:tensorflow:From D:\\Programms\\Anaconda3\\envs\\tf_gpu\\lib\\site-packages\\tensorflow\\python\\ops\\math_ops.py:3066: to_int32 (from tensorflow.python.ops.math_ops) is deprecated and will be removed in a future version.\n",
      "Instructions for updating:\n",
      "Use tf.cast instead.\n",
      "Epoch 1/20\n",
      "16/16 [==============================] - 1s 40ms/sample - loss: 0.6932 - acc: 0.5000 - val_loss: 0.6942 - val_acc: 0.3750\n",
      "Epoch 2/20\n",
      "16/16 [==============================] - 0s 811us/sample - loss: 0.6931 - acc: 0.5000 - val_loss: 0.6932 - val_acc: 0.6250\n",
      "Epoch 3/20\n",
      "16/16 [==============================] - 0s 686us/sample - loss: 0.6931 - acc: 0.5000 - val_loss: 0.6926 - val_acc: 0.6250\n",
      "Epoch 4/20\n",
      "16/16 [==============================] - 0s 935us/sample - loss: 0.6931 - acc: 0.5000 - val_loss: 0.6926 - val_acc: 0.6250\n",
      "Epoch 5/20\n",
      "16/16 [==============================] - 0s 686us/sample - loss: 0.6931 - acc: 0.5000 - val_loss: 0.6929 - val_acc: 0.6250\n",
      "Epoch 6/20\n",
      "16/16 [==============================] - 0s 561us/sample - loss: 0.6931 - acc: 0.5000 - val_loss: 0.6933 - val_acc: 0.6250\n",
      "Epoch 7/20\n",
      "16/16 [==============================] - 0s 997us/sample - loss: 0.6930 - acc: 0.5000 - val_loss: 0.6938 - val_acc: 0.1250\n",
      "Epoch 8/20\n",
      "16/16 [==============================] - 0s 935us/sample - loss: 0.6930 - acc: 0.5625 - val_loss: 0.6942 - val_acc: 0.3750\n",
      "Epoch 9/20\n",
      "16/16 [==============================] - 0s 935us/sample - loss: 0.6930 - acc: 0.5000 - val_loss: 0.6945 - val_acc: 0.3750\n",
      "Epoch 10/20\n",
      "16/16 [==============================] - 0s 2ms/sample - loss: 0.6930 - acc: 0.5000 - val_loss: 0.6946 - val_acc: 0.3750\n",
      "Epoch 11/20\n",
      "16/16 [==============================] - 0s 997us/sample - loss: 0.6929 - acc: 0.5000 - val_loss: 0.6945 - val_acc: 0.3750\n",
      "Epoch 12/20\n",
      "16/16 [==============================] - 0s 2ms/sample - loss: 0.6929 - acc: 0.5000 - val_loss: 0.6944 - val_acc: 0.3750\n",
      "Epoch 13/20\n",
      "16/16 [==============================] - 0s 1ms/sample - loss: 0.6929 - acc: 0.5000 - val_loss: 0.6941 - val_acc: 0.2500\n",
      "Epoch 14/20\n",
      "16/16 [==============================] - 0s 935us/sample - loss: 0.6928 - acc: 0.5625 - val_loss: 0.6940 - val_acc: 0.1250\n",
      "Epoch 15/20\n",
      "16/16 [==============================] - 0s 560us/sample - loss: 0.6928 - acc: 0.5625 - val_loss: 0.6939 - val_acc: 0.3750\n",
      "Epoch 16/20\n",
      "16/16 [==============================] - 0s 2ms/sample - loss: 0.6928 - acc: 0.6250 - val_loss: 0.6938 - val_acc: 0.3750\n",
      "Epoch 17/20\n",
      "16/16 [==============================] - 0s 2ms/sample - loss: 0.6927 - acc: 0.6250 - val_loss: 0.6938 - val_acc: 0.3750\n",
      "Epoch 18/20\n",
      "16/16 [==============================] - 0s 499us/sample - loss: 0.6927 - acc: 0.6250 - val_loss: 0.6939 - val_acc: 0.3750\n",
      "Epoch 19/20\n",
      "16/16 [==============================] - 0s 561us/sample - loss: 0.6927 - acc: 0.6250 - val_loss: 0.6940 - val_acc: 0.3750\n",
      "Epoch 20/20\n",
      "16/16 [==============================] - 0s 1ms/sample - loss: 0.6926 - acc: 0.6250 - val_loss: 0.6941 - val_acc: 0.3750\n"
     ]
    }
   ],
   "source": [
    "history = model.fit(train_data,\n",
    "                    train_labels,\n",
    "                    epochs=20,\n",
    "                    batch_size=32,\n",
    "                    validation_data=(validation_data, validation_labels),\n",
    "                    verbose=1)"
   ]
  },
  {
   "cell_type": "markdown",
   "metadata": {},
   "source": [
    "## Analysing results"
   ]
  },
  {
   "cell_type": "code",
   "execution_count": 35,
   "metadata": {},
   "outputs": [
    {
     "name": "stdout",
     "output_type": "stream",
     "text": [
      "\r",
      "8/8 [==============================] - 0s 249us/sample - loss: 0.6935 - acc: 0.3750\n"
     ]
    }
   ],
   "source": [
    "results = model.evaluate(test_data, test_labels)"
   ]
  },
  {
   "cell_type": "code",
   "execution_count": 36,
   "metadata": {},
   "outputs": [
    {
     "data": {
      "text/plain": [
       "dict_keys(['loss', 'acc', 'val_loss', 'val_acc'])"
      ]
     },
     "execution_count": 36,
     "metadata": {},
     "output_type": "execute_result"
    }
   ],
   "source": [
    "history_dict = history.history\n",
    "history_dict.keys()"
   ]
  },
  {
   "cell_type": "code",
   "execution_count": 37,
   "metadata": {},
   "outputs": [
    {
     "data": {
      "image/png": "[encoded data removed]",
      "text/plain": [
       "<Figure size 432x288 with 1 Axes>"
      ]
     },
     "metadata": {
      "needs_background": "light"
     },
     "output_type": "display_data"
    }
   ],
   "source": [
    "acc = history_dict['acc']\n",
    "val_acc = history_dict['val_acc']\n",
    "loss = history_dict['loss']\n",
    "val_loss = history_dict['val_loss']\n",
    "\n",
    "epochs = range(1, len(acc) + 1)\n",
    "\n",
    "# \"bo\" is for \"blue dot\"\n",
    "plt.plot(epochs, loss, 'bo', label='Training loss')\n",
    "# b is for \"solid blue line\"\n",
    "plt.plot(epochs, val_loss, 'b', label='Validation loss')\n",
    "plt.title('Training and validation loss')\n",
    "plt.xlabel('Epochs')\n",
    "plt.ylabel('Loss')\n",
    "plt.legend()\n",
    "\n",
    "plt.show()"
   ]
  },
  {
   "cell_type": "code",
   "execution_count": 38,
   "metadata": {},
   "outputs": [
    {
     "data": {
      "image/png": "[encoded data removed]",
      "text/plain": [
       "<Figure size 432x288 with 1 Axes>"
      ]
     },
     "metadata": {
      "needs_background": "light"
     },
     "output_type": "display_data"
    }
   ],
   "source": [
    "plt.clf()   # clear figure\n",
    "\n",
    "plt.plot(epochs, acc, 'bo', label='Training acc')\n",
    "plt.plot(epochs, val_acc, 'b', label='Validation acc')\n",
    "plt.title('Training and validation accuracy')\n",
    "plt.xlabel('Epochs')\n",
    "plt.ylabel('Accuracy')\n",
    "plt.legend()\n",
    "\n",
    "plt.show()"
   ]
  }
 ],
 "metadata": {
  "kernelspec": {
   "display_name": "Python 3",
   "language": "python",
   "name": "python3"
  },
  "language_info": {
   "codemirror_mode": {
    "name": "ipython",
    "version": 3
   },
   "file_extension": ".py",
   "mimetype": "text/x-python",
   "name": "python",
   "nbconvert_exporter": "python",
   "pygments_lexer": "ipython3",
   "version": "3.7.3"
  }
 },
 "nbformat": 4,
 "nbformat_minor": 2
}
