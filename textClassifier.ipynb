{
 "cells": [
  {
   "cell_type": "markdown",
   "metadata": {},
   "source": [
    "# Text age classifier"
   ]
  },
  {
   "cell_type": "markdown",
   "metadata": {},
   "source": [
    "Our goal is to classify given text to categories. First category means that given text is OK to be given to child to read, second category means that text suits adult but not children."
   ]
  },
  {
   "cell_type": "markdown",
   "metadata": {},
   "source": [
    "# We have several main tasks:\n",
    "- Prepare training, test data\n",
    " * Find data \n",
    " * Prepare data\n",
    "- Build model\n",
    " * Train model"
   ]
  },
  {
   "cell_type": "code",
   "execution_count": 1,
   "metadata": {},
   "outputs": [],
   "source": [
    "import io\n",
    "import re\n",
    "import random\n",
    "import pickle\n",
    "import csv\n",
    "import numpy as np\n",
    "import matplotlib.pyplot as plt\n",
    "import tensorflow as tf\n",
    "from tensorflow import keras"
   ]
  },
  {
   "cell_type": "markdown",
   "metadata": {},
   "source": [
    "## Preparing data"
   ]
  },
  {
   "cell_type": "markdown",
   "metadata": {},
   "source": [
    "What to do:\n",
    "- Create dictionary with all words\n",
    "- Make list of lists containing data\n",
    "- Norm data so model can train on it\n",
    "- Split data to train, validation and test data"
   ]
  },
  {
   "cell_type": "markdown",
   "metadata": {},
   "source": [
    "### Creating dictionary "
   ]
  },
  {
   "cell_type": "markdown",
   "metadata": {},
   "source": [
    "First of all, we should create dictionary with top 10 000 used words in russian language matched to numbers from 0 to 9999.\n",
    "We need this to represent poems as arrays of numbers, where each number represents a word from array."
   ]
  },
  {
   "cell_type": "markdown",
   "metadata": {},
   "source": [
    "I found top 10 000 words from website, now we should parse them into list."
   ]
  },
  {
   "cell_type": "code",
   "execution_count": 2,
   "metadata": {},
   "outputs": [],
   "source": [
    "with open('scripts/files/words.txt', 'r') as f:\n",
    "    wordList = [line.strip() for line in f]"
   ]
  },
  {
   "cell_type": "code",
   "execution_count": 3,
   "metadata": {},
   "outputs": [
    {
     "data": {
      "text/plain": [
       "\"['не', 'на', 'что', 'как', 'он', 'по', 'из', 'это', 'от', 'за']\""
      ]
     },
     "execution_count": 3,
     "metadata": {},
     "output_type": "execute_result"
    }
   ],
   "source": [
    "str(wordList[:10])"
   ]
  },
  {
   "cell_type": "code",
   "execution_count": 4,
   "metadata": {},
   "outputs": [
    {
     "data": {
      "text/plain": [
       "10000"
      ]
     },
     "execution_count": 4,
     "metadata": {},
     "output_type": "execute_result"
    }
   ],
   "source": [
    "len(wordList)"
   ]
  },
  {
   "cell_type": "markdown",
   "metadata": {},
   "source": [
    "Creating a dictinary that contains words and numbers."
   ]
  },
  {
   "cell_type": "code",
   "execution_count": 5,
   "metadata": {},
   "outputs": [],
   "source": [
    "values = list(range(1, 10001))\n",
    "dictionary = dict(zip(wordList, values))"
   ]
  },
  {
   "cell_type": "code",
   "execution_count": 6,
   "metadata": {},
   "outputs": [
    {
     "data": {
      "text/plain": [
       "\"[('не', 1), ('на', 2), ('что', 3), ('как', 4), ('он', 5), ('по', 6), ('из', 7), ('это', 8), ('от', 9), ('за', 10)]\""
      ]
     },
     "execution_count": 6,
     "metadata": {},
     "output_type": "execute_result"
    }
   ],
   "source": [
    "str(list(dictionary.items())[:10])"
   ]
  },
  {
   "cell_type": "markdown",
   "metadata": {},
   "source": [
    "Writing dictionary to a file so we can use it later."
   ]
  },
  {
   "cell_type": "code",
   "execution_count": 7,
   "metadata": {},
   "outputs": [],
   "source": [
    "pickle_out = open(\"scripts/files/dict.pickle\",\"wb\")\n",
    "pickle.dump(dictionary, pickle_out)\n",
    "pickle_out.close()"
   ]
  },
  {
   "cell_type": "markdown",
   "metadata": {},
   "source": [
    "### Making a list of lists containing data"
   ]
  },
  {
   "cell_type": "markdown",
   "metadata": {},
   "source": [
    "Earlier we parsed adult, children and normal tales and amde a kaggle dataset.\n",
    "We have downloaded a csv file from https://www.kaggle.com/idoldev/adult-and-child-russian-tales-dataset-with-label and put it to scripts/files/tales.scv"
   ]
  },
  {
   "cell_type": "markdown",
   "metadata": {},
   "source": [
    "Let's define a function that returns two lists from csv file: one with tales, one with labels."
   ]
  },
  {
   "cell_type": "code",
   "execution_count": 8,
   "metadata": {},
   "outputs": [],
   "source": [
    "def csv_reader(scv):\n",
    "    list1 = []\n",
    "    list2 = []\n",
    "    reader = csv.DictReader(scv, delimiter=',')\n",
    "    for line in reader:\n",
    "        list1.append(line[\"Tale\"]),\n",
    "        list2.append(line[\"Label\"])\n",
    "    for i in range(len(list2)):\n",
    "        if list2[i] == ' 2':\n",
    "            list2[i] = 2\n",
    "        elif list2[i] == ' 1':\n",
    "            list2[i] = 1\n",
    "        elif list2[i] == ' 0':\n",
    "            list2[i] = 0\n",
    "        \n",
    "    return list1, list2"
   ]
  },
  {
   "cell_type": "code",
   "execution_count": 9,
   "metadata": {},
   "outputs": [],
   "source": [
    "with open(\"scripts/files/tales.csv\", encoding='utf-8') as scv:\n",
    "        data, labels = csv_reader(scv)"
   ]
  },
  {
   "cell_type": "markdown",
   "metadata": {},
   "source": [
    "Dataset have 3 labels: 0 - adult content, 1 - children content, 2 - normal content. So, as we have binary classifier, we should have 2 categories. Because of that we will keep 0 as adult content and combine children and normal content into category 1, what means that this content is OK to be read by children."
   ]
  },
  {
   "cell_type": "code",
   "execution_count": 10,
   "metadata": {},
   "outputs": [],
   "source": [
    "for i in range(len(labels)):\n",
    "    if labels[i] == 2:\n",
    "        labels[i] = 1"
   ]
  },
  {
   "cell_type": "markdown",
   "metadata": {},
   "source": [
    "Also, we should change string labels which were parsed incorrectly to label with number 1."
   ]
  },
  {
   "cell_type": "code",
   "execution_count": 11,
   "metadata": {},
   "outputs": [],
   "source": [
    "for i in range(len(labels)):\n",
    "    if isinstance(labels[i], str):\n",
    "        labels[i] = 1"
   ]
  },
  {
   "cell_type": "code",
   "execution_count": 12,
   "metadata": {},
   "outputs": [
    {
     "data": {
      "text/plain": [
       "('Снеговик из детской сказки Раскраснелась детвора - Накатала три шара! Друг на друга их сложили, И ведро нагромоздили. Нос - морковка, уголь - глазки, Снеговик из детской сказки! Руки - ветки, рот - конфета... Пусть стоит теперь до лета!  ',\n",
       " 1)"
      ]
     },
     "execution_count": 12,
     "metadata": {},
     "output_type": "execute_result"
    }
   ],
   "source": [
    "data[1], labels[1]"
   ]
  },
  {
   "cell_type": "code",
   "execution_count": 13,
   "metadata": {},
   "outputs": [
    {
     "data": {
      "text/plain": [
       "(28055, 28055)"
      ]
     },
     "execution_count": 13,
     "metadata": {},
     "output_type": "execute_result"
    }
   ],
   "source": [
    "len(data), len(labels)"
   ]
  },
  {
   "cell_type": "markdown",
   "metadata": {},
   "source": [
    "So, we have a list of strings. Now we should transform each string to list of words."
   ]
  },
  {
   "cell_type": "code",
   "execution_count": 14,
   "metadata": {},
   "outputs": [],
   "source": [
    "data = list(map(lambda x: re.findall(r'\\w+', x), data))"
   ]
  },
  {
   "cell_type": "code",
   "execution_count": 15,
   "metadata": {
    "scrolled": true
   },
   "outputs": [
    {
     "data": {
      "text/plain": [
       "\"['Снеговик', 'из', 'детской', 'сказки', 'Раскраснелась', 'детвора', 'Накатала', 'три', 'шара', 'Друг', 'на', 'друга', 'их', 'сложили', 'И', 'ведро', 'нагромоздили', 'Нос', 'морковка', 'уголь', 'глазки', 'Снеговик', 'из', 'детской', 'сказки', 'Руки', 'ветки', 'рот', 'конфета', 'Пусть', 'стоит', 'теперь', 'до', 'лета']\""
      ]
     },
     "execution_count": 15,
     "metadata": {},
     "output_type": "execute_result"
    }
   ],
   "source": [
    "str(data[1])"
   ]
  },
  {
   "cell_type": "markdown",
   "metadata": {},
   "source": [
    "Now we transform each word to number from dictionary."
   ]
  },
  {
   "cell_type": "code",
   "execution_count": 16,
   "metadata": {},
   "outputs": [],
   "source": [
    "data = list(map(lambda x: list(map(lambda y: dictionary.get(y, 0), x)), data))"
   ]
  },
  {
   "cell_type": "code",
   "execution_count": 17,
   "metadata": {},
   "outputs": [
    {
     "data": {
      "text/plain": [
       "'[0, 7, 0, 0, 0, 0, 0, 88, 0, 0, 2, 0, 0, 0, 0, 2046, 0, 0, 0, 2549, 0, 0, 7, 0, 0, 0, 0, 349, 0, 0, 0, 49, 21, 0]'"
      ]
     },
     "execution_count": 17,
     "metadata": {},
     "output_type": "execute_result"
    }
   ],
   "source": [
    "str(data[1])"
   ]
  },
  {
   "cell_type": "code",
   "execution_count": 18,
   "metadata": {},
   "outputs": [
    {
     "data": {
      "text/plain": [
       "False"
      ]
     },
     "execution_count": 18,
     "metadata": {},
     "output_type": "execute_result"
    }
   ],
   "source": [
    "isinstance(1, str)"
   ]
  },
  {
   "cell_type": "markdown",
   "metadata": {},
   "source": [
    "And at the end we transform data and labels to numpy array of lists"
   ]
  },
  {
   "cell_type": "code",
   "execution_count": 19,
   "metadata": {},
   "outputs": [],
   "source": [
    "data = np.array(data, dtype=object)\n",
    "labels = np.array(labels)"
   ]
  },
  {
   "cell_type": "markdown",
   "metadata": {},
   "source": [
    "### Norming data"
   ]
  },
  {
   "cell_type": "markdown",
   "metadata": {},
   "source": [
    "Now we should make training data arrays same on size."
   ]
  },
  {
   "cell_type": "code",
   "execution_count": 20,
   "metadata": {},
   "outputs": [
    {
     "data": {
      "text/plain": [
       "(45, 34)"
      ]
     },
     "execution_count": 20,
     "metadata": {},
     "output_type": "execute_result"
    }
   ],
   "source": [
    "len(data[0]), len(data[1])"
   ]
  },
  {
   "cell_type": "code",
   "execution_count": 21,
   "metadata": {},
   "outputs": [],
   "source": [
    "data = keras.preprocessing.sequence.pad_sequences(data,\n",
    "                                                  value=0,\n",
    "                                                  padding='post',\n",
    "                                                  maxlen=128)"
   ]
  },
  {
   "cell_type": "code",
   "execution_count": 22,
   "metadata": {},
   "outputs": [
    {
     "data": {
      "text/plain": [
       "(128, 128)"
      ]
     },
     "execution_count": 22,
     "metadata": {},
     "output_type": "execute_result"
    }
   ],
   "source": [
    "len(data[0]), len(data[1])"
   ]
  },
  {
   "cell_type": "code",
   "execution_count": 23,
   "metadata": {},
   "outputs": [
    {
     "data": {
      "text/plain": [
       "array([   0,    7,    0,    0,    0,    0,    0,   88,    0,    0,    2,\n",
       "          0,    0,    0,    0, 2046,    0,    0,    0, 2549,    0,    0,\n",
       "          7,    0,    0,    0,    0,  349,    0,    0,    0,   49,   21,\n",
       "          0,    0,    0,    0,    0,    0,    0,    0,    0,    0,    0,\n",
       "          0,    0,    0,    0,    0,    0,    0,    0,    0,    0,    0,\n",
       "          0,    0,    0,    0,    0,    0,    0,    0,    0,    0,    0,\n",
       "          0,    0,    0,    0,    0,    0,    0,    0,    0,    0,    0,\n",
       "          0,    0,    0,    0,    0,    0,    0,    0,    0,    0,    0,\n",
       "          0,    0,    0,    0,    0,    0,    0,    0,    0,    0,    0,\n",
       "          0,    0,    0,    0,    0,    0,    0,    0,    0,    0,    0,\n",
       "          0,    0,    0,    0,    0,    0,    0,    0,    0,    0,    0,\n",
       "          0,    0,    0,    0,    0,    0,    0])"
      ]
     },
     "execution_count": 23,
     "metadata": {},
     "output_type": "execute_result"
    }
   ],
   "source": [
    "data[1]"
   ]
  },
  {
   "cell_type": "code",
   "execution_count": 24,
   "metadata": {
    "scrolled": true
   },
   "outputs": [
    {
     "data": {
      "text/plain": [
       "array([[  0, 687,   0, ...,   0,   0,   0],\n",
       "       [  0,   7,   0, ...,   0,   0,   0],\n",
       "       [  0, 914,   0, ...,   0,   0,   0],\n",
       "       ...,\n",
       "       [  0,  83,   0, ...,   0,   0,   0],\n",
       "       [  0,   0,   0, ...,   0,   0,   0],\n",
       "       [  0,   0,   0, ...,   0,   0,   0]])"
      ]
     },
     "execution_count": 24,
     "metadata": {},
     "output_type": "execute_result"
    }
   ],
   "source": [
    "data"
   ]
  },
  {
   "cell_type": "code",
   "execution_count": 25,
   "metadata": {},
   "outputs": [
    {
     "data": {
      "text/plain": [
       "(28055, 28055)"
      ]
     },
     "execution_count": 25,
     "metadata": {},
     "output_type": "execute_result"
    }
   ],
   "source": [
    "len(data), len(labels)"
   ]
  },
  {
   "cell_type": "markdown",
   "metadata": {},
   "source": [
    "### Splitting data into train, validation and test"
   ]
  },
  {
   "cell_type": "markdown",
   "metadata": {},
   "source": [
    "Firstly we should shuffle our tales (now they are located in way where first half is tales for children and second half is tales for adults)."
   ]
  },
  {
   "cell_type": "markdown",
   "metadata": {},
   "source": [
    "We should notice that it is important to shuffle list of data and list of labels synchronously to keep data and labels matched."
   ]
  },
  {
   "cell_type": "code",
   "execution_count": 26,
   "metadata": {},
   "outputs": [
    {
     "data": {
      "text/plain": [
       "array([1, 1, 1, 1, 1, 1, 1, 1, 1, 1, 1, 1, 1, 1, 1, 1, 1, 1, 1, 1, 1, 1,\n",
       "       1, 1, 1, 1, 1, 1, 1, 1, 1, 1, 1, 1, 1, 1, 1, 1, 1, 1, 1, 1, 1, 1,\n",
       "       1, 1, 1, 1, 1, 1, 1, 1, 1, 1, 1, 1, 1, 1, 1, 1, 1, 1, 1, 1, 1, 1,\n",
       "       1, 1, 1, 1, 1, 1, 1, 1, 1, 1, 1, 1, 1, 1, 1, 1, 1, 1, 1, 1, 1, 1,\n",
       "       1, 1, 1, 1, 1, 1, 1, 1, 1, 1, 1, 1])"
      ]
     },
     "execution_count": 26,
     "metadata": {},
     "output_type": "execute_result"
    }
   ],
   "source": [
    "labels[:100]"
   ]
  },
  {
   "cell_type": "code",
   "execution_count": 27,
   "metadata": {},
   "outputs": [],
   "source": [
    "indices = np.arange(data.shape[0])\n",
    "np.random.shuffle(indices)\n",
    "\n",
    "data = data[indices]\n",
    "labels = labels[indices]"
   ]
  },
  {
   "cell_type": "code",
   "execution_count": 28,
   "metadata": {},
   "outputs": [
    {
     "data": {
      "text/plain": [
       "array([0, 1, 1, 1, 1, 0, 0, 1, 1, 0, 0, 0, 1, 1, 0, 0, 0, 0, 0, 1, 0, 1,\n",
       "       0, 0, 0, 1, 0, 0, 0, 0, 1, 1, 0, 1, 1, 0, 0, 1, 0, 0, 1, 0, 1, 0,\n",
       "       0, 0, 1, 1, 0, 0, 1, 0, 0, 0, 1, 1, 0, 1, 0, 1, 0, 0, 0, 0, 0, 0,\n",
       "       0, 1, 1, 0, 0, 0, 0, 1, 1, 1, 0, 1, 1, 0, 1, 1, 0, 1, 0, 0, 0, 0,\n",
       "       1, 0, 1, 0, 0, 0, 1, 0, 1, 1, 0, 1])"
      ]
     },
     "execution_count": 28,
     "metadata": {},
     "output_type": "execute_result"
    }
   ],
   "source": [
    "labels[:100]"
   ]
  },
  {
   "cell_type": "markdown",
   "metadata": {},
   "source": [
    "Now we will choose half of our data for training, 1/4 for validation, 1/4 for testing."
   ]
  },
  {
   "cell_type": "code",
   "execution_count": 29,
   "metadata": {},
   "outputs": [],
   "source": [
    "train_data = data[:int((len(data))/2)]\n",
    "train_labels = labels[:int((len(data))/2)]\n",
    "\n",
    "validation_data = data[int((len(data))/2): 3*int((len(data))/4)]\n",
    "validation_labels = labels[int((len(data))/2): 3*int((len(data))/4)]\n",
    "\n",
    "test_data = data[3*int((len(data))/4):]\n",
    "test_labels = labels[3*int((len(data))/4):]"
   ]
  },
  {
   "cell_type": "code",
   "execution_count": 30,
   "metadata": {},
   "outputs": [
    {
     "data": {
      "text/plain": [
       "(14027, 14027, 7012, 7012, 7016, 7016)"
      ]
     },
     "execution_count": 30,
     "metadata": {},
     "output_type": "execute_result"
    }
   ],
   "source": [
    "len(train_data), len(train_labels), len(validation_data), len(validation_labels), len(test_data), len(test_labels)"
   ]
  },
  {
   "cell_type": "code",
   "execution_count": 31,
   "metadata": {},
   "outputs": [
    {
     "data": {
      "text/plain": [
       "array([[   0,    0,    0, ...,    0,    0,    0],\n",
       "       [   0,   44,  925, ...,    0,    0,    0],\n",
       "       [   0,    0,   34, ...,    0,    0,    0],\n",
       "       ...,\n",
       "       [   0,    0, 3044, ...,    0,    0,    0],\n",
       "       [   0,    0,    0, ...,    0,    0,    0],\n",
       "       [   0,    0,    0, ...,    0,    0,    0]])"
      ]
     },
     "execution_count": 31,
     "metadata": {},
     "output_type": "execute_result"
    }
   ],
   "source": [
    "train_data"
   ]
  },
  {
   "cell_type": "markdown",
   "metadata": {},
   "source": [
    "## Bulding model"
   ]
  },
  {
   "cell_type": "markdown",
   "metadata": {},
   "source": [
    "First layer gets a vector of vords and transforms it into 10000 vector where 1 sign that this word exists in vector."
   ]
  },
  {
   "cell_type": "code",
   "execution_count": 32,
   "metadata": {},
   "outputs": [
    {
     "name": "stdout",
     "output_type": "stream",
     "text": [
      "WARNING:tensorflow:From D:\\Programms\\Anaconda3\\envs\\tf_gpu\\lib\\site-packages\\tensorflow\\python\\ops\\resource_variable_ops.py:435: colocate_with (from tensorflow.python.framework.ops) is deprecated and will be removed in a future version.\n",
      "Instructions for updating:\n",
      "Colocations handled automatically by placer.\n",
      "_________________________________________________________________\n",
      "Layer (type)                 Output Shape              Param #   \n",
      "=================================================================\n",
      "embedding (Embedding)        (None, None, 16)          160000    \n",
      "_________________________________________________________________\n",
      "global_average_pooling1d (Gl (None, 16)                0         \n",
      "_________________________________________________________________\n",
      "dense (Dense)                (None, 16)                272       \n",
      "_________________________________________________________________\n",
      "dense_1 (Dense)              (None, 1)                 17        \n",
      "=================================================================\n",
      "Total params: 160,289\n",
      "Trainable params: 160,289\n",
      "Non-trainable params: 0\n",
      "_________________________________________________________________\n"
     ]
    }
   ],
   "source": [
    "model = keras.Sequential()\n",
    "model.add(keras.layers.Embedding(len(dictionary), 16, input_shape=(None,)))\n",
    "model.add(keras.layers.GlobalAveragePooling1D())\n",
    "model.add(keras.layers.Dense(16, activation=tf.nn.relu))\n",
    "model.add(keras.layers.Dense(1, activation=tf.nn.sigmoid))\n",
    "\n",
    "model.summary()"
   ]
  },
  {
   "cell_type": "markdown",
   "metadata": {},
   "source": [
    "Compiling our model."
   ]
  },
  {
   "cell_type": "code",
   "execution_count": 33,
   "metadata": {},
   "outputs": [],
   "source": [
    "model.compile(optimizer=tf.keras.optimizers.Adam(lr=0.001),\n",
    "              loss='binary_crossentropy',\n",
    "              metrics=['accuracy'])"
   ]
  },
  {
   "cell_type": "markdown",
   "metadata": {},
   "source": [
    "### Training model"
   ]
  },
  {
   "cell_type": "code",
   "execution_count": 34,
   "metadata": {},
   "outputs": [
    {
     "name": "stdout",
     "output_type": "stream",
     "text": [
      "Train on 14027 samples, validate on 7012 samples\n",
      "WARNING:tensorflow:From D:\\Programms\\Anaconda3\\envs\\tf_gpu\\lib\\site-packages\\tensorflow\\python\\ops\\math_ops.py:3066: to_int32 (from tensorflow.python.ops.math_ops) is deprecated and will be removed in a future version.\n",
      "Instructions for updating:\n",
      "Use tf.cast instead.\n",
      "Epoch 1/40\n",
      "14027/14027 [==============================] - 3s 242us/sample - loss: 0.6672 - acc: 0.5960 - val_loss: 0.6520 - val_acc: 0.5866\n",
      "Epoch 2/40\n",
      "14027/14027 [==============================] - 3s 188us/sample - loss: 0.5367 - acc: 0.7344 - val_loss: 0.4135 - val_acc: 0.8356\n",
      "Epoch 3/40\n",
      "14027/14027 [==============================] - 3s 182us/sample - loss: 0.3312 - acc: 0.8718 - val_loss: 0.3166 - val_acc: 0.8634\n",
      "Epoch 4/40\n",
      "14027/14027 [==============================] - 3s 186us/sample - loss: 0.2599 - acc: 0.8967 - val_loss: 0.2836 - val_acc: 0.8764\n",
      "Epoch 5/40\n",
      "14027/14027 [==============================] - 3s 182us/sample - loss: 0.2232 - acc: 0.9115 - val_loss: 0.2624 - val_acc: 0.8879\n",
      "Epoch 6/40\n",
      "14027/14027 [==============================] - 3s 186us/sample - loss: 0.1978 - acc: 0.9215 - val_loss: 0.2786 - val_acc: 0.8771\n",
      "Epoch 7/40\n",
      "14027/14027 [==============================] - 3s 187us/sample - loss: 0.1786 - acc: 0.9306 - val_loss: 0.2486 - val_acc: 0.8936\n",
      "Epoch 8/40\n",
      "14027/14027 [==============================] - 3s 190us/sample - loss: 0.1631 - acc: 0.9368 - val_loss: 0.2433 - val_acc: 0.8960\n",
      "Epoch 9/40\n",
      "14027/14027 [==============================] - 3s 189us/sample - loss: 0.1498 - acc: 0.9425 - val_loss: 0.2450 - val_acc: 0.8958\n",
      "Epoch 10/40\n",
      "14027/14027 [==============================] - 2s 174us/sample - loss: 0.1416 - acc: 0.9424 - val_loss: 0.2434 - val_acc: 0.8969\n",
      "Epoch 11/40\n",
      "14027/14027 [==============================] - 2s 175us/sample - loss: 0.1302 - acc: 0.9504 - val_loss: 0.2461 - val_acc: 0.8972\n",
      "Epoch 12/40\n",
      "14027/14027 [==============================] - 3s 209us/sample - loss: 0.1215 - acc: 0.9536 - val_loss: 0.2474 - val_acc: 0.8980\n",
      "Epoch 13/40\n",
      "14027/14027 [==============================] - 3s 211us/sample - loss: 0.1149 - acc: 0.9566 - val_loss: 0.2545 - val_acc: 0.8963\n",
      "Epoch 14/40\n",
      "14027/14027 [==============================] - 3s 214us/sample - loss: 0.1094 - acc: 0.9587 - val_loss: 0.2603 - val_acc: 0.8952\n",
      "Epoch 15/40\n",
      "14027/14027 [==============================] - 3s 198us/sample - loss: 0.1023 - acc: 0.9621 - val_loss: 0.2676 - val_acc: 0.8970\n",
      "Epoch 16/40\n",
      "14027/14027 [==============================] - 3s 190us/sample - loss: 0.0972 - acc: 0.9634 - val_loss: 0.2689 - val_acc: 0.8956\n",
      "Epoch 17/40\n",
      "14027/14027 [==============================] - 3s 185us/sample - loss: 0.0931 - acc: 0.9643 - val_loss: 0.2750 - val_acc: 0.8948\n",
      "Epoch 18/40\n",
      "14027/14027 [==============================] - 3s 188us/sample - loss: 0.0866 - acc: 0.9676 - val_loss: 0.2814 - val_acc: 0.8959\n",
      "Epoch 19/40\n",
      "14027/14027 [==============================] - 3s 204us/sample - loss: 0.0846 - acc: 0.9677 - val_loss: 0.2886 - val_acc: 0.8926\n",
      "Epoch 20/40\n",
      "14027/14027 [==============================] - 3s 228us/sample - loss: 0.0801 - acc: 0.9700 - val_loss: 0.2940 - val_acc: 0.8903\n",
      "Epoch 21/40\n",
      "14027/14027 [==============================] - 2s 163us/sample - loss: 0.0749 - acc: 0.9724 - val_loss: 0.3029 - val_acc: 0.8913\n",
      "Epoch 22/40\n",
      "14027/14027 [==============================] - 2s 172us/sample - loss: 0.0725 - acc: 0.9726 - val_loss: 0.3127 - val_acc: 0.8888\n",
      "Epoch 23/40\n",
      "14027/14027 [==============================] - 2s 171us/sample - loss: 0.0688 - acc: 0.9745 - val_loss: 0.3255 - val_acc: 0.8876\n",
      "Epoch 24/40\n",
      "14027/14027 [==============================] - 2s 171us/sample - loss: 0.0671 - acc: 0.9753 - val_loss: 0.3341 - val_acc: 0.8875\n",
      "Epoch 25/40\n",
      "14027/14027 [==============================] - 2s 176us/sample - loss: 0.0634 - acc: 0.9770 - val_loss: 0.3425 - val_acc: 0.8865\n",
      "Epoch 26/40\n",
      "14027/14027 [==============================] - 2s 172us/sample - loss: 0.0609 - acc: 0.9779 - val_loss: 0.3518 - val_acc: 0.8862\n",
      "Epoch 27/40\n",
      "14027/14027 [==============================] - 2s 171us/sample - loss: 0.0587 - acc: 0.9782 - val_loss: 0.3645 - val_acc: 0.8841\n",
      "Epoch 28/40\n",
      "14027/14027 [==============================] - 3s 187us/sample - loss: 0.0563 - acc: 0.9789 - val_loss: 0.3776 - val_acc: 0.8845\n",
      "Epoch 29/40\n",
      "14027/14027 [==============================] - 2s 174us/sample - loss: 0.0561 - acc: 0.9801 - val_loss: 0.3921 - val_acc: 0.8839\n",
      "Epoch 30/40\n",
      "14027/14027 [==============================] - 2s 166us/sample - loss: 0.0545 - acc: 0.9794 - val_loss: 0.4032 - val_acc: 0.8838\n",
      "Epoch 31/40\n",
      "14027/14027 [==============================] - 2s 167us/sample - loss: 0.0523 - acc: 0.9795 - val_loss: 0.4097 - val_acc: 0.8825\n",
      "Epoch 32/40\n",
      "14027/14027 [==============================] - 2s 161us/sample - loss: 0.0485 - acc: 0.9822 - val_loss: 0.4209 - val_acc: 0.8795\n",
      "Epoch 33/40\n",
      "14027/14027 [==============================] - 2s 164us/sample - loss: 0.0474 - acc: 0.9825 - val_loss: 0.4332 - val_acc: 0.8815\n",
      "Epoch 34/40\n",
      "14027/14027 [==============================] - 2s 172us/sample - loss: 0.0458 - acc: 0.9835 - val_loss: 0.4486 - val_acc: 0.8819\n",
      "Epoch 35/40\n",
      "14027/14027 [==============================] - 2s 174us/sample - loss: 0.0442 - acc: 0.9837 - val_loss: 0.4556 - val_acc: 0.8799\n",
      "Epoch 36/40\n",
      "14027/14027 [==============================] - 2s 172us/sample - loss: 0.0428 - acc: 0.9838 - val_loss: 0.4699 - val_acc: 0.8756\n",
      "Epoch 37/40\n",
      "14027/14027 [==============================] - 2s 173us/sample - loss: 0.0414 - acc: 0.9852 - val_loss: 0.4965 - val_acc: 0.8805\n",
      "Epoch 38/40\n",
      "14027/14027 [==============================] - 2s 170us/sample - loss: 0.0404 - acc: 0.9858 - val_loss: 0.5037 - val_acc: 0.8801\n",
      "Epoch 39/40\n",
      "14027/14027 [==============================] - 2s 165us/sample - loss: 0.0404 - acc: 0.9857 - val_loss: 0.5107 - val_acc: 0.8745\n",
      "Epoch 40/40\n",
      "14027/14027 [==============================] - 2s 171us/sample - loss: 0.0385 - acc: 0.9855 - val_loss: 0.5374 - val_acc: 0.8786\n"
     ]
    }
   ],
   "source": [
    "history = model.fit(train_data,\n",
    "                    train_labels,\n",
    "                    epochs=40,\n",
    "                    batch_size=32,\n",
    "                    validation_data=(validation_data, validation_labels),\n",
    "                    verbose=1)"
   ]
  },
  {
   "cell_type": "markdown",
   "metadata": {},
   "source": [
    "## Analysing results"
   ]
  },
  {
   "cell_type": "code",
   "execution_count": 35,
   "metadata": {},
   "outputs": [
    {
     "name": "stdout",
     "output_type": "stream",
     "text": [
      "7016/7016 [==============================] - 0s 61us/sample - loss: 0.5563 - acc: 0.8756\n"
     ]
    }
   ],
   "source": [
    "results = model.evaluate(test_data, test_labels)"
   ]
  },
  {
   "cell_type": "code",
   "execution_count": 36,
   "metadata": {},
   "outputs": [
    {
     "data": {
      "text/plain": [
       "dict_keys(['loss', 'acc', 'val_loss', 'val_acc'])"
      ]
     },
     "execution_count": 36,
     "metadata": {},
     "output_type": "execute_result"
    }
   ],
   "source": [
    "history_dict = history.history\n",
    "history_dict.keys()"
   ]
  },
  {
   "cell_type": "code",
   "execution_count": 37,
   "metadata": {},
   "outputs": [
    {
     "data": {
      "image/png": "[encoded data removed]",
      "text/plain": [
       "<Figure size 432x288 with 1 Axes>"
      ]
     },
     "metadata": {
      "needs_background": "light"
     },
     "output_type": "display_data"
    }
   ],
   "source": [
    "acc = history_dict['acc']\n",
    "val_acc = history_dict['val_acc']\n",
    "loss = history_dict['loss']\n",
    "val_loss = history_dict['val_loss']\n",
    "\n",
    "epochs = range(1, len(acc) + 1)\n",
    "\n",
    "# \"bo\" is for \"blue dot\"\n",
    "plt.plot(epochs, loss, 'bo', label='Training loss')\n",
    "# b is for \"solid blue line\"\n",
    "plt.plot(epochs, val_loss, 'b', label='Validation loss')\n",
    "plt.title('Training and validation loss')\n",
    "plt.xlabel('Epochs')\n",
    "plt.ylabel('Loss')\n",
    "plt.legend()\n",
    "\n",
    "plt.show()"
   ]
  },
  {
   "cell_type": "code",
   "execution_count": 38,
   "metadata": {
    "scrolled": true
   },
   "outputs": [
    {
     "data": {
      "image/png": "[encoded data removed]",
      "text/plain": [
       "<Figure size 432x288 with 1 Axes>"
      ]
     },
     "metadata": {
      "needs_background": "light"
     },
     "output_type": "display_data"
    }
   ],
   "source": [
    "plt.clf()   # clear figure\n",
    "\n",
    "plt.plot(epochs, acc, 'bo', label='Training acc')\n",
    "plt.plot(epochs, val_acc, 'b', label='Validation acc')\n",
    "plt.title('Training and validation accuracy')\n",
    "plt.xlabel('Epochs')\n",
    "plt.ylabel('Accuracy')\n",
    "plt.legend()\n",
    "\n",
    "plt.show()"
   ]
  },
  {
   "cell_type": "markdown",
   "metadata": {},
   "source": [
    "## Custom test"
   ]
  },
  {
   "cell_type": "code",
   "execution_count": 39,
   "metadata": {},
   "outputs": [],
   "source": [
    "stroka  = \"Две веселые овечки Разрезвились возле речки. Прыг-скок, прыг-скок! (Весело прыгаем) Скачут белые овечки Рано утром возле речки. Прыг-скок, прыг-скок! Вверх до неба, вниз до травки. Вверх до неба, вниз до травки. (Встаем на ножки, тянемся вверх. Приседаем, руки опускаем вниз) А потом кружились(Кружимся) И в речку свалились. (Падаем)Две веселые овечки Разрезвились возле речки. Прыг-скок, прыг-скок! (Весело прыгаем) Скачут белые овечки Рано утром возле речки. Прыг-скок, прыг-скок! Вверх до неба, вниз до травки. Вверх до неба, вниз до травки. (Встаем на ножки, тянемся вверх. Приседаем, руки опускаем вниз) А потом кружились(Кружимся) И в речку свалились. (Падаем)Две веселые овечки Разрезвились возле речки. Прыг-скок, прыг-скок! (Весело прыгаем) Скачут белые овечки Рано утром возле речки. Прыг-скок, прыг-скок! Вверх до неба, вниз до травки. Вверх до неба, вниз до травки. (Встаем на ножки, тянемся вверх. Приседаем, руки опускаем вниз) А потом кружились(Кружимся) И в речку свалились. (Падаем)Две веселые овечки Разрезвились возле речки. Прыг-скок, прыг-скок! (Весело прыгаем) Скачут белые овечки Рано утром возле речки. Прыг-скок, прыг-скок! Вверх до неба, вниз до травки. Вверх до неба, вниз до травки. (Встаем на ножки, тянемся вверх. Приседаем, руки опускаем вниз) А потом кружились(Кружимся) И в речку свалились. (Падаем)Две веселые овечки Разрезвились возле речки. Прыг-скок, прыг-скок! (Весело прыгаем) Скачут белые овечки Рано утром возле речки. Прыг-скок, прыг-скок! Вверх до неба, вниз до травки. Вверх до неба, вниз до травки. (Встаем на ножки, тянемся вверх. Приседаем, руки опускаем вниз) А потом кружились(Кружимся) И в речку свалились. (Падаем)Две веселые овечки Разрезвились возле речки. Прыг-скок, прыг-скок! (Весело прыгаем) Скачут белые овечки Рано утром возле речки. Прыг-скок, прыг-скок! Вверх до неба, вниз до травки. Вверх до неба, вниз до травки. (Встаем на ножки, тянемся вверх. Приседаем, руки опускаем вниз) А потом кружились(Кружимся) И в речку свалились. (Падаем)Две веселые овечки Разрезвились возле речки. Прыг-скок, прыг-скок! (Весело прыгаем) Скачут белые овечки Рано утром возле речки. Прыг-скок, прыг-скок! Вверх до неба, вниз до травки. Вверх до неба, вниз до травки. (Встаем на ножки, тянемся вверх. Приседаем, руки опускаем вниз) А потом кружились(Кружимся) И в речку свалились. (Падаем)\""
   ]
  },
  {
   "cell_type": "code",
   "execution_count": 40,
   "metadata": {},
   "outputs": [],
   "source": [
    "def stringOfWordsToTestList(tale):\n",
    "    \n",
    "    # splitting string to list of words\n",
    "    listOfWords = re.findall(r'\\w+', tale)\n",
    "    \n",
    "    # changing each word to it's number\n",
    "    listOfNumbers = list(map(lambda y: dictionary.get(y, 0), listOfWords))\n",
    "    \n",
    "    # splitting list of numbers to list of lists where each list contains 128 numbers\n",
    "    listOfListsOfNumbers = [listOfNumbers[x:x+128] for x in range(0, len(listOfNumbers), 128)]\n",
    "    \n",
    "    # preprocessing each list\n",
    "    listOfListsOfNumbers = keras.preprocessing.sequence.pad_sequences(listOfListsOfNumbers,\n",
    "                                                                      value=0,\n",
    "                                                                      padding='post',\n",
    "                                                                      maxlen=128)\n",
    "    return listOfListsOfNumbers"
   ]
  },
  {
   "cell_type": "code",
   "execution_count": 41,
   "metadata": {},
   "outputs": [],
   "source": [
    "def prepareSingleString(tale):\n",
    "    \n",
    "     # splitting string to list of words\n",
    "    listOfWords = re.findall(r'\\w+', tale)\n",
    "    \n",
    "    # changing each word to it's number\n",
    "    listOfNumbers = list(map(lambda y: dictionary.get(y, 0), listOfWords))\n",
    "    \n",
    "    # splitting list of numbers to list of lists where each list contains 128 numbers\n",
    "    listOfListOfNumbers = [listOfNumbers]\n",
    "    \n",
    "    # preprocessing each list\n",
    "    listOfListOfNumbers = keras.preprocessing.sequence.pad_sequences(listOfListOfNumbers,\n",
    "                                                                      value=0,\n",
    "                                                                      padding='post',\n",
    "                                                                      maxlen=128)\n",
    "    return listOfListOfNumbers"
   ]
  },
  {
   "cell_type": "code",
   "execution_count": 42,
   "metadata": {},
   "outputs": [
    {
     "data": {
      "text/plain": [
       "0.99802893"
      ]
     },
     "execution_count": 42,
     "metadata": {},
     "output_type": "execute_result"
    }
   ],
   "source": [
    "np.average(model.predict(stringOfWordsToTestList(stroka)))"
   ]
  },
  {
   "cell_type": "markdown",
   "metadata": {},
   "source": [
    "## Saving model "
   ]
  },
  {
   "cell_type": "code",
   "execution_count": 43,
   "metadata": {},
   "outputs": [],
   "source": [
    "model.save('scripts/files/full_model.h5')"
   ]
  },
  {
   "cell_type": "code",
   "execution_count": 44,
   "metadata": {},
   "outputs": [
    {
     "name": "stdout",
     "output_type": "stream",
     "text": [
      "_________________________________________________________________\n",
      "Layer (type)                 Output Shape              Param #   \n",
      "=================================================================\n",
      "embedding (Embedding)        (None, None, 16)          160000    \n",
      "_________________________________________________________________\n",
      "global_average_pooling1d (Gl (None, 16)                0         \n",
      "_________________________________________________________________\n",
      "dense (Dense)                (None, 16)                272       \n",
      "_________________________________________________________________\n",
      "dense_1 (Dense)              (None, 1)                 17        \n",
      "=================================================================\n",
      "Total params: 160,289\n",
      "Trainable params: 160,289\n",
      "Non-trainable params: 0\n",
      "_________________________________________________________________\n"
     ]
    }
   ],
   "source": [
    "new_model = keras.models.load_model('scripts/files/full_model.h5')\n",
    "new_model.summary()"
   ]
  },
  {
   "cell_type": "code",
   "execution_count": 45,
   "metadata": {},
   "outputs": [
    {
     "name": "stdout",
     "output_type": "stream",
     "text": [
      "7016/7016 [==============================] - 1s 78us/sample - loss: 0.5563 - acc: 0.8756\n"
     ]
    }
   ],
   "source": [
    "results = new_model.evaluate(test_data, test_labels)"
   ]
  },
  {
   "cell_type": "code",
   "execution_count": 46,
   "metadata": {},
   "outputs": [
    {
     "data": {
      "text/plain": [
       "0.15445219"
      ]
     },
     "execution_count": 46,
     "metadata": {},
     "output_type": "execute_result"
    }
   ],
   "source": [
    "np.average(new_model.predict(stringOfWordsToTestList(\"лол кек чебурек фыв и\")))"
   ]
  }
 ],
 "metadata": {
  "kernelspec": {
   "display_name": "Python 3",
   "language": "python",
   "name": "python3"
  },
  "language_info": {
   "codemirror_mode": {
    "name": "ipython",
    "version": 3
   },
   "file_extension": ".py",
   "mimetype": "text/x-python",
   "name": "python",
   "nbconvert_exporter": "python",
   "pygments_lexer": "ipython3",
   "version": "3.6.7"
  }
 },
 "nbformat": 4,
 "nbformat_minor": 2
}
